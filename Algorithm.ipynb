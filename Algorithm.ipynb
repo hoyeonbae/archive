{
 "cells": [
  {
   "cell_type": "code",
   "execution_count": 1,
   "id": "78bee241-817d-4e2d-b019-561a27e08532",
   "metadata": {},
   "outputs": [],
   "source": [
    "import random"
   ]
  },
  {
   "cell_type": "code",
   "execution_count": 59,
   "id": "203dfce7-6c76-4649-8836-ddc159db88c3",
   "metadata": {},
   "outputs": [
    {
     "name": "stdout",
     "output_type": "stream",
     "text": [
      "[92, 63, 2, 26, 70, 30, 1, 58, 73, 10, 96, 8, 41, 3, 55, 85, 99, 32, 49, 34]\n"
     ]
    }
   ],
   "source": [
    "l = random.sample(range(100),20)\n",
    "print(l)"
   ]
  },
  {
   "cell_type": "markdown",
   "id": "8e4ee949-0d44-4dec-96a4-085c6ec58c16",
   "metadata": {},
   "source": [
    "### Selection Sort"
   ]
  },
  {
   "cell_type": "code",
   "execution_count": 60,
   "id": "5bc109b1-28a8-47f7-8d99-c3eb39afca36",
   "metadata": {},
   "outputs": [
    {
     "name": "stdout",
     "output_type": "stream",
     "text": [
      "[1, 2, 3, 8, 10, 26, 30, 32, 34, 41, 49, 55, 58, 63, 70, 73, 85, 92, 96, 99]\n"
     ]
    }
   ],
   "source": [
    "for i in range(len(l)):\n",
    "    # max value, index를 변수에 저장했다가\n",
    "    max_value = max(l[:len(l)-i])\n",
    "    max_index = l.index(max_value)\n",
    "    # 뒤에서 n번째 순서대로 변수를 저장\n",
    "    rep_value = l[-1-i]\n",
    "    rep_index = l.index(rep_value)\n",
    "    # print(i, max_index, max_value, rep_index, rep_value)\n",
    "    # 각각의 자리에 insert\n",
    "    l[rep_index] = max_value\n",
    "    l[max_index] = rep_value\n",
    "    # print(i, v)\n",
    "print(l)"
   ]
  }
 ],
 "metadata": {
  "kernelspec": {
   "display_name": "Python 3 (ipykernel)",
   "language": "python",
   "name": "python3"
  },
  "language_info": {
   "codemirror_mode": {
    "name": "ipython",
    "version": 3
   },
   "file_extension": ".py",
   "mimetype": "text/x-python",
   "name": "python",
   "nbconvert_exporter": "python",
   "pygments_lexer": "ipython3",
   "version": "3.9.7"
  }
 },
 "nbformat": 4,
 "nbformat_minor": 5
}
